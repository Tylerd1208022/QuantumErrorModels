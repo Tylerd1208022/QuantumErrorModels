{
 "cells": [
  {
   "cell_type": "code",
   "execution_count": null,
   "id": "8d517628-73df-45b4-be79-1f4942f2e6fa",
   "metadata": {},
   "outputs": [],
   "source": [
    "# testing out git pushing to repo\n",
    "\n",
    "\n",
    "# AWS imports: Import Braket SDK modules\n",
    "from braket.circuits import Circuit\n",
    "from braket.devices import LocalSimulator"
   ]
  }
 ],
 "metadata": {
  "kernelspec": {
   "display_name": "conda_braket",
   "language": "python",
   "name": "conda_braket"
  },
  "language_info": {
   "codemirror_mode": {
    "name": "ipython",
    "version": 3
   },
   "file_extension": ".py",
   "mimetype": "text/x-python",
   "name": "python",
   "nbconvert_exporter": "python",
   "pygments_lexer": "ipython3",
   "version": "3.10.11"
  }
 },
 "nbformat": 4,
 "nbformat_minor": 5
}

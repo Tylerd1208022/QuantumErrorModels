{
 "cells": [
  {
   "cell_type": "code",
   "execution_count": 7,
   "metadata": {
    "collapsed": true,
    "jupyter": {
     "outputs_hidden": true
    },
    "tags": []
   },
   "outputs": [
    {
     "name": "stdout",
     "output_type": "stream",
     "text": [
      "Looking in indexes: https://pypi.org/simple, https://pip.repos.neuron.amazonaws.com\n",
      "Collecting git+https://github.com/rigetti/qiskit-rigetti\n",
      "  Cloning https://github.com/rigetti/qiskit-rigetti to /tmp/pip-req-build-nl5ple_2\n",
      "  Running command git clone --filter=blob:none --quiet https://github.com/rigetti/qiskit-rigetti /tmp/pip-req-build-nl5ple_2\n",
      "  Resolved https://github.com/rigetti/qiskit-rigetti to commit 8ee11613e628c44cded0d0d96488f3427e746df5\n",
      "  Installing build dependencies ... \u001b[?25ldone\n",
      "\u001b[?25h  Getting requirements to build wheel ... \u001b[?25ldone\n",
      "\u001b[?25h  Preparing metadata (pyproject.toml) ... \u001b[?25ldone\n",
      "\u001b[?25hCollecting qiskit_rigetti\n",
      "  Using cached qiskit_rigetti-0.4.5-py3-none-any.whl (22 kB)\n",
      "Requirement already satisfied: numpy<2.0.0,>=1.23.3 in /home/ec2-user/anaconda3/envs/Braket/lib/python3.10/site-packages (from qiskit-rigetti==0.4.6rc3) (1.23.5)\n",
      "Requirement already satisfied: pyquil<4.0.0,>=3.0.0 in /home/ec2-user/anaconda3/envs/Braket/lib/python3.10/site-packages (from qiskit-rigetti==0.4.6rc3) (3.5.2)\n",
      "Collecting qiskit>=0.38.0 (from qiskit-rigetti==0.4.6rc3)\n",
      "  Downloading qiskit-0.43.0.tar.gz (10.0 kB)\n",
      "  Installing build dependencies ... \u001b[?25ldone\n",
      "\u001b[?25h  Getting requirements to build wheel ... \u001b[?25ldone\n",
      "\u001b[?25h  Installing backend dependencies ... \u001b[?25ldone\n",
      "\u001b[?25h  Preparing metadata (pyproject.toml) ... \u001b[?25ldone\n",
      "\u001b[?25hRequirement already satisfied: deprecated<2.0.0,>=1.2.13 in /home/ec2-user/anaconda3/envs/Braket/lib/python3.10/site-packages (from pyquil<4.0.0,>=3.0.0->qiskit-rigetti==0.4.6rc3) (1.2.13)\n",
      "Requirement already satisfied: lark<0.12.0,>=0.11.1 in /home/ec2-user/anaconda3/envs/Braket/lib/python3.10/site-packages (from pyquil<4.0.0,>=3.0.0->qiskit-rigetti==0.4.6rc3) (0.11.3)\n",
      "Requirement already satisfied: networkx<3.0,>=2.5 in /home/ec2-user/anaconda3/envs/Braket/lib/python3.10/site-packages (from pyquil<4.0.0,>=3.0.0->qiskit-rigetti==0.4.6rc3) (2.8.8)\n",
      "Requirement already satisfied: qcs-api-client<0.22.0,>=0.21.0 in /home/ec2-user/anaconda3/envs/Braket/lib/python3.10/site-packages (from pyquil<4.0.0,>=3.0.0->qiskit-rigetti==0.4.6rc3) (0.21.5)\n",
      "Requirement already satisfied: rpcq<4.0.0,>=3.10.0 in /home/ec2-user/anaconda3/envs/Braket/lib/python3.10/site-packages (from pyquil<4.0.0,>=3.0.0->qiskit-rigetti==0.4.6rc3) (3.11.0)\n",
      "Requirement already satisfied: scipy<2.0.0,>=1.6.1 in /home/ec2-user/anaconda3/envs/Braket/lib/python3.10/site-packages (from pyquil<4.0.0,>=3.0.0->qiskit-rigetti==0.4.6rc3) (1.9.3)\n",
      "Requirement already satisfied: tenacity<9.0.0,>=8.2.2 in /home/ec2-user/anaconda3/envs/Braket/lib/python3.10/site-packages (from pyquil<4.0.0,>=3.0.0->qiskit-rigetti==0.4.6rc3) (8.2.2)\n",
      "Requirement already satisfied: types-deprecated<2.0.0.0,>=1.2.9.2 in /home/ec2-user/anaconda3/envs/Braket/lib/python3.10/site-packages (from pyquil<4.0.0,>=3.0.0->qiskit-rigetti==0.4.6rc3) (1.2.9.2)\n",
      "Requirement already satisfied: types-python-dateutil<3.0.0,>=2.8.19 in /home/ec2-user/anaconda3/envs/Braket/lib/python3.10/site-packages (from pyquil<4.0.0,>=3.0.0->qiskit-rigetti==0.4.6rc3) (2.8.19.13)\n",
      "Requirement already satisfied: types-retry<0.10.0,>=0.9.9 in /home/ec2-user/anaconda3/envs/Braket/lib/python3.10/site-packages (from pyquil<4.0.0,>=3.0.0->qiskit-rigetti==0.4.6rc3) (0.9.9.3)\n",
      "Collecting qiskit-terra==0.24.0 (from qiskit>=0.38.0->qiskit-rigetti==0.4.6rc3)\n",
      "  Downloading qiskit_terra-0.24.0-cp310-cp310-manylinux_2_17_x86_64.manylinux2014_x86_64.whl (5.9 MB)\n",
      "\u001b[2K     \u001b[90m━━━━━━━━━━━━━━━━━━━━━━━━━━━━━━━━━━━━━━━━\u001b[0m \u001b[32m5.9/5.9 MB\u001b[0m \u001b[31m20.3 MB/s\u001b[0m eta \u001b[36m0:00:00\u001b[0m:00:01\u001b[0m0:01\u001b[0m\n",
      "\u001b[?25hRequirement already satisfied: qiskit-aer==0.12.0 in /home/ec2-user/anaconda3/envs/Braket/lib/python3.10/site-packages (from qiskit>=0.38.0->qiskit-rigetti==0.4.6rc3) (0.12.0)\n",
      "Collecting qiskit-ibmq-provider==0.20.2 (from qiskit>=0.38.0->qiskit-rigetti==0.4.6rc3)\n",
      "  Downloading qiskit_ibmq_provider-0.20.2-py3-none-any.whl (241 kB)\n",
      "\u001b[2K     \u001b[90m━━━━━━━━━━━━━━━━━━━━━━━━━━━━━━━━━━━━━━\u001b[0m \u001b[32m241.5/241.5 kB\u001b[0m \u001b[31m45.6 MB/s\u001b[0m eta \u001b[36m0:00:00\u001b[0m\n",
      "\u001b[?25hRequirement already satisfied: requests>=2.19 in /home/ec2-user/anaconda3/envs/Braket/lib/python3.10/site-packages (from qiskit-ibmq-provider==0.20.2->qiskit>=0.38.0->qiskit-rigetti==0.4.6rc3) (2.31.0)\n",
      "Collecting requests-ntlm<=1.1.0 (from qiskit-ibmq-provider==0.20.2->qiskit>=0.38.0->qiskit-rigetti==0.4.6rc3)\n",
      "  Downloading requests_ntlm-1.1.0-py2.py3-none-any.whl (5.7 kB)\n",
      "Requirement already satisfied: urllib3>=1.21.1 in /home/ec2-user/anaconda3/envs/Braket/lib/python3.10/site-packages (from qiskit-ibmq-provider==0.20.2->qiskit>=0.38.0->qiskit-rigetti==0.4.6rc3) (1.26.16)\n",
      "Requirement already satisfied: python-dateutil>=2.8.0 in /home/ec2-user/anaconda3/envs/Braket/lib/python3.10/site-packages (from qiskit-ibmq-provider==0.20.2->qiskit>=0.38.0->qiskit-rigetti==0.4.6rc3) (2.8.2)\n",
      "Collecting websocket-client>=1.5.1 (from qiskit-ibmq-provider==0.20.2->qiskit>=0.38.0->qiskit-rigetti==0.4.6rc3)\n",
      "  Using cached websocket_client-1.5.2-py3-none-any.whl (56 kB)\n",
      "Collecting websockets>=10.0 (from qiskit-ibmq-provider==0.20.2->qiskit>=0.38.0->qiskit-rigetti==0.4.6rc3)\n",
      "  Downloading websockets-11.0.3-cp310-cp310-manylinux_2_5_x86_64.manylinux1_x86_64.manylinux_2_17_x86_64.manylinux2014_x86_64.whl (129 kB)\n",
      "\u001b[2K     \u001b[90m━━━━━━━━━━━━━━━━━━━━━━━━━━━━━━━━━━━━━━\u001b[0m \u001b[32m129.9/129.9 kB\u001b[0m \u001b[31m26.4 MB/s\u001b[0m eta \u001b[36m0:00:00\u001b[0m\n",
      "\u001b[?25hRequirement already satisfied: rustworkx>=0.12.0 in /home/ec2-user/anaconda3/envs/Braket/lib/python3.10/site-packages (from qiskit-terra==0.24.0->qiskit>=0.38.0->qiskit-rigetti==0.4.6rc3) (0.12.1)\n",
      "Requirement already satisfied: ply>=3.10 in /home/ec2-user/anaconda3/envs/Braket/lib/python3.10/site-packages (from qiskit-terra==0.24.0->qiskit>=0.38.0->qiskit-rigetti==0.4.6rc3) (3.11)\n",
      "Requirement already satisfied: psutil>=5 in /home/ec2-user/anaconda3/envs/Braket/lib/python3.10/site-packages (from qiskit-terra==0.24.0->qiskit>=0.38.0->qiskit-rigetti==0.4.6rc3) (5.9.5)\n",
      "Requirement already satisfied: sympy>=1.3 in /home/ec2-user/anaconda3/envs/Braket/lib/python3.10/site-packages (from qiskit-terra==0.24.0->qiskit>=0.38.0->qiskit-rigetti==0.4.6rc3) (1.12)\n",
      "Requirement already satisfied: dill>=0.3 in /home/ec2-user/anaconda3/envs/Braket/lib/python3.10/site-packages (from qiskit-terra==0.24.0->qiskit>=0.38.0->qiskit-rigetti==0.4.6rc3) (0.3.6)\n",
      "Requirement already satisfied: stevedore>=3.0.0 in /home/ec2-user/anaconda3/envs/Braket/lib/python3.10/site-packages (from qiskit-terra==0.24.0->qiskit>=0.38.0->qiskit-rigetti==0.4.6rc3) (5.1.0)\n",
      "Collecting symengine<0.10,>=0.9 (from qiskit-terra==0.24.0->qiskit>=0.38.0->qiskit-rigetti==0.4.6rc3)\n",
      "  Downloading symengine-0.9.2-cp310-cp310-manylinux2010_x86_64.whl (37.5 MB)\n",
      "\u001b[2K     \u001b[90m━━━━━━━━━━━━━━━━━━━━━━━━━━━━━━━━━━━━━━━━\u001b[0m \u001b[32m37.5/37.5 MB\u001b[0m \u001b[31m10.9 MB/s\u001b[0m eta \u001b[36m0:00:00\u001b[0m00:01\u001b[0m00:01\u001b[0m\n",
      "\u001b[?25hRequirement already satisfied: wrapt<2,>=1.10 in /home/ec2-user/anaconda3/envs/Braket/lib/python3.10/site-packages (from deprecated<2.0.0,>=1.2.13->pyquil<4.0.0,>=3.0.0->qiskit-rigetti==0.4.6rc3) (1.15.0)\n",
      "Requirement already satisfied: PyJWT<3.0.0,>=2.4.0 in /home/ec2-user/anaconda3/envs/Braket/lib/python3.10/site-packages (from qcs-api-client<0.22.0,>=0.21.0->pyquil<4.0.0,>=3.0.0->qiskit-rigetti==0.4.6rc3) (2.7.0)\n",
      "Requirement already satisfied: attrs<22.0.0,>=21.3.0 in /home/ec2-user/anaconda3/envs/Braket/lib/python3.10/site-packages (from qcs-api-client<0.22.0,>=0.21.0->pyquil<4.0.0,>=3.0.0->qiskit-rigetti==0.4.6rc3) (21.4.0)\n",
      "Requirement already satisfied: httpx<0.24.0,>=0.23.0 in /home/ec2-user/anaconda3/envs/Braket/lib/python3.10/site-packages (from qcs-api-client<0.22.0,>=0.21.0->pyquil<4.0.0,>=3.0.0->qiskit-rigetti==0.4.6rc3) (0.23.3)\n",
      "Requirement already satisfied: iso8601<2.0.0,>=1.0.2 in /home/ec2-user/anaconda3/envs/Braket/lib/python3.10/site-packages (from qcs-api-client<0.22.0,>=0.21.0->pyquil<4.0.0,>=3.0.0->qiskit-rigetti==0.4.6rc3) (1.1.0)\n",
      "Requirement already satisfied: pydantic<2.0.0,>=1.7.2 in /home/ec2-user/anaconda3/envs/Braket/lib/python3.10/site-packages (from qcs-api-client<0.22.0,>=0.21.0->pyquil<4.0.0,>=3.0.0->qiskit-rigetti==0.4.6rc3) (1.10.8)\n",
      "Requirement already satisfied: retrying<2.0.0,>=1.3.3 in /home/ec2-user/anaconda3/envs/Braket/lib/python3.10/site-packages (from qcs-api-client<0.22.0,>=0.21.0->pyquil<4.0.0,>=3.0.0->qiskit-rigetti==0.4.6rc3) (1.3.3)\n",
      "Requirement already satisfied: rfc3339<7.0,>=6.2 in /home/ec2-user/anaconda3/envs/Braket/lib/python3.10/site-packages (from qcs-api-client<0.22.0,>=0.21.0->pyquil<4.0.0,>=3.0.0->qiskit-rigetti==0.4.6rc3) (6.2)\n",
      "Requirement already satisfied: toml<0.11.0,>=0.10.2 in /home/ec2-user/anaconda3/envs/Braket/lib/python3.10/site-packages (from qcs-api-client<0.22.0,>=0.21.0->pyquil<4.0.0,>=3.0.0->qiskit-rigetti==0.4.6rc3) (0.10.2)\n",
      "Requirement already satisfied: msgpack<2.0,>=0.6 in /home/ec2-user/anaconda3/envs/Braket/lib/python3.10/site-packages (from rpcq<4.0.0,>=3.10.0->pyquil<4.0.0,>=3.0.0->qiskit-rigetti==0.4.6rc3) (1.0.5)\n",
      "Requirement already satisfied: python-rapidjson in /home/ec2-user/anaconda3/envs/Braket/lib/python3.10/site-packages (from rpcq<4.0.0,>=3.10.0->pyquil<4.0.0,>=3.0.0->qiskit-rigetti==0.4.6rc3) (1.10)\n",
      "Requirement already satisfied: pyzmq>=17 in /home/ec2-user/anaconda3/envs/Braket/lib/python3.10/site-packages (from rpcq<4.0.0,>=3.10.0->pyquil<4.0.0,>=3.0.0->qiskit-rigetti==0.4.6rc3) (25.0.2)\n",
      "Requirement already satisfied: ruamel.yaml in /home/ec2-user/anaconda3/envs/Braket/lib/python3.10/site-packages (from rpcq<4.0.0,>=3.10.0->pyquil<4.0.0,>=3.0.0->qiskit-rigetti==0.4.6rc3) (0.17.28)\n",
      "Requirement already satisfied: certifi in /home/ec2-user/anaconda3/envs/Braket/lib/python3.10/site-packages (from httpx<0.24.0,>=0.23.0->qcs-api-client<0.22.0,>=0.21.0->pyquil<4.0.0,>=3.0.0->qiskit-rigetti==0.4.6rc3) (2023.5.7)\n",
      "Requirement already satisfied: httpcore<0.17.0,>=0.15.0 in /home/ec2-user/anaconda3/envs/Braket/lib/python3.10/site-packages (from httpx<0.24.0,>=0.23.0->qcs-api-client<0.22.0,>=0.21.0->pyquil<4.0.0,>=3.0.0->qiskit-rigetti==0.4.6rc3) (0.16.3)\n",
      "Requirement already satisfied: rfc3986[idna2008]<2,>=1.3 in /home/ec2-user/anaconda3/envs/Braket/lib/python3.10/site-packages (from httpx<0.24.0,>=0.23.0->qcs-api-client<0.22.0,>=0.21.0->pyquil<4.0.0,>=3.0.0->qiskit-rigetti==0.4.6rc3) (1.5.0)\n",
      "Requirement already satisfied: sniffio in /home/ec2-user/anaconda3/envs/Braket/lib/python3.10/site-packages (from httpx<0.24.0,>=0.23.0->qcs-api-client<0.22.0,>=0.21.0->pyquil<4.0.0,>=3.0.0->qiskit-rigetti==0.4.6rc3) (1.3.0)\n",
      "Requirement already satisfied: typing-extensions>=4.2.0 in /home/ec2-user/anaconda3/envs/Braket/lib/python3.10/site-packages (from pydantic<2.0.0,>=1.7.2->qcs-api-client<0.22.0,>=0.21.0->pyquil<4.0.0,>=3.0.0->qiskit-rigetti==0.4.6rc3) (4.6.0)\n",
      "Requirement already satisfied: six>=1.5 in /home/ec2-user/anaconda3/envs/Braket/lib/python3.10/site-packages (from python-dateutil>=2.8.0->qiskit-ibmq-provider==0.20.2->qiskit>=0.38.0->qiskit-rigetti==0.4.6rc3) (1.16.0)\n",
      "Requirement already satisfied: charset-normalizer<4,>=2 in /home/ec2-user/anaconda3/envs/Braket/lib/python3.10/site-packages (from requests>=2.19->qiskit-ibmq-provider==0.20.2->qiskit>=0.38.0->qiskit-rigetti==0.4.6rc3) (3.1.0)\n",
      "Requirement already satisfied: idna<4,>=2.5 in /home/ec2-user/anaconda3/envs/Braket/lib/python3.10/site-packages (from requests>=2.19->qiskit-ibmq-provider==0.20.2->qiskit>=0.38.0->qiskit-rigetti==0.4.6rc3) (3.4)\n",
      "Collecting ntlm-auth>=1.0.2 (from requests-ntlm<=1.1.0->qiskit-ibmq-provider==0.20.2->qiskit>=0.38.0->qiskit-rigetti==0.4.6rc3)\n",
      "  Downloading ntlm_auth-1.5.0-py2.py3-none-any.whl (29 kB)\n",
      "Collecting cryptography>=1.3 (from requests-ntlm<=1.1.0->qiskit-ibmq-provider==0.20.2->qiskit>=0.38.0->qiskit-rigetti==0.4.6rc3)\n",
      "  Using cached cryptography-40.0.2-cp36-abi3-manylinux_2_17_x86_64.manylinux2014_x86_64.whl (3.7 MB)\n",
      "Requirement already satisfied: pbr!=2.1.0,>=2.0.0 in /home/ec2-user/anaconda3/envs/Braket/lib/python3.10/site-packages (from stevedore>=3.0.0->qiskit-terra==0.24.0->qiskit>=0.38.0->qiskit-rigetti==0.4.6rc3) (5.11.1)\n",
      "Requirement already satisfied: mpmath>=0.19 in /home/ec2-user/anaconda3/envs/Braket/lib/python3.10/site-packages (from sympy>=1.3->qiskit-terra==0.24.0->qiskit>=0.38.0->qiskit-rigetti==0.4.6rc3) (1.3.0)\n",
      "Requirement already satisfied: ruamel.yaml.clib>=0.2.7 in /home/ec2-user/anaconda3/envs/Braket/lib/python3.10/site-packages (from ruamel.yaml->rpcq<4.0.0,>=3.10.0->pyquil<4.0.0,>=3.0.0->qiskit-rigetti==0.4.6rc3) (0.2.7)\n",
      "Collecting cffi>=1.12 (from cryptography>=1.3->requests-ntlm<=1.1.0->qiskit-ibmq-provider==0.20.2->qiskit>=0.38.0->qiskit-rigetti==0.4.6rc3)\n",
      "  Using cached cffi-1.15.1-cp310-cp310-manylinux_2_17_x86_64.manylinux2014_x86_64.whl (441 kB)\n",
      "Requirement already satisfied: h11<0.15,>=0.13 in /home/ec2-user/anaconda3/envs/Braket/lib/python3.10/site-packages (from httpcore<0.17.0,>=0.15.0->httpx<0.24.0,>=0.23.0->qcs-api-client<0.22.0,>=0.21.0->pyquil<4.0.0,>=3.0.0->qiskit-rigetti==0.4.6rc3) (0.14.0)\n",
      "Requirement already satisfied: anyio<5.0,>=3.0 in /home/ec2-user/anaconda3/envs/Braket/lib/python3.10/site-packages (from httpcore<0.17.0,>=0.15.0->httpx<0.24.0,>=0.23.0->qcs-api-client<0.22.0,>=0.21.0->pyquil<4.0.0,>=3.0.0->qiskit-rigetti==0.4.6rc3) (3.6.2)\n",
      "Collecting pycparser (from cffi>=1.12->cryptography>=1.3->requests-ntlm<=1.1.0->qiskit-ibmq-provider==0.20.2->qiskit>=0.38.0->qiskit-rigetti==0.4.6rc3)\n",
      "  Using cached pycparser-2.21-py2.py3-none-any.whl (118 kB)\n",
      "Building wheels for collected packages: qiskit-rigetti, qiskit\n",
      "  Building wheel for qiskit-rigetti (pyproject.toml) ... \u001b[?25ldone\n",
      "\u001b[?25h  Created wheel for qiskit-rigetti: filename=qiskit_rigetti-0.4.6rc3-py3-none-any.whl size=23380 sha256=306cec0c1efce3abb4bacd8b23c2dfbd021e86bce49fcfa3da69c2cbd7c7b4ae\n",
      "  Stored in directory: /tmp/pip-ephem-wheel-cache-ifzhtb9c/wheels/e1/a6/29/d20da794c119af05e9eedabd57c592b57c8d0da4d0f12bb458\n",
      "  Building wheel for qiskit (pyproject.toml) ... \u001b[?25ldone\n",
      "\u001b[?25h  Created wheel for qiskit: filename=qiskit-0.43.0-py3-none-any.whl size=7996 sha256=73e99ded41cce2512e43681b1f4945c78f27a6fd63b828b3da90b86962360968\n",
      "  Stored in directory: /home/ec2-user/.cache/pip/wheels/11/fe/bc/59531707126e693bad48c61c0b86f3870b49f8f7ad49c18209\n",
      "Successfully built qiskit-rigetti qiskit\n",
      "Installing collected packages: websockets, websocket-client, symengine, pycparser, ntlm-auth, qiskit-terra, cffi, cryptography, requests-ntlm, qiskit-ibmq-provider, qiskit, qiskit-rigetti\n",
      "  Attempting uninstall: symengine\n",
      "    Found existing installation: symengine 0.10.0\n",
      "    Uninstalling symengine-0.10.0:\n",
      "      Successfully uninstalled symengine-0.10.0\n",
      "  Attempting uninstall: qiskit-terra\n",
      "    Found existing installation: qiskit-terra 0.23.3\n",
      "    Uninstalling qiskit-terra-0.23.3:\n",
      "      Successfully uninstalled qiskit-terra-0.23.3\n",
      "Successfully installed cffi-1.15.1 cryptography-40.0.2 ntlm-auth-1.5.0 pycparser-2.21 qiskit-0.43.0 qiskit-ibmq-provider-0.20.2 qiskit-rigetti-0.4.6rc3 qiskit-terra-0.24.0 requests-ntlm-1.1.0 symengine-0.9.2 websocket-client-1.5.2 websockets-11.0.3\n",
      "Note: you may need to restart the kernel to use updated packages.\n"
     ]
    }
   ],
   "source": [
    "%pip install qiskit_rigetti git+https://github.com/rigetti/qiskit-rigetti"
   ]
  },
  {
   "cell_type": "code",
   "execution_count": 1,
   "metadata": {
    "tags": []
   },
   "outputs": [],
   "source": [
    "# Use Braket SDK Cost Tracking to estimate the cost to run this example\n",
    "from braket.tracking import Tracker\n",
    "t = Tracker().start()"
   ]
  },
  {
   "cell_type": "code",
   "execution_count": 2,
   "metadata": {
    "tags": []
   },
   "outputs": [],
   "source": [
    "# general imports\n",
    "import numpy as np\n",
    "import matplotlib.pyplot as plt\n",
    "# magic word for producing visualizations in notebook\n",
    "%matplotlib inline\n",
    "import string\n",
    "import time\n",
    "\n",
    "# AWS imports: Import Braket SDK modules\n",
    "from braket.circuits import Circuit, Gate, Observable\n",
    "from braket.devices import LocalSimulator\n",
    "from braket.aws import AwsDevice, AwsQuantumTask"
   ]
  },
  {
   "cell_type": "code",
   "execution_count": 5,
   "metadata": {
    "tags": []
   },
   "outputs": [],
   "source": [
    "# %pip install pyquil\n",
    "from pyquil import Program, get_qc\n",
    "from pyquil.gates import H, CNOT\n",
    "from qiskit import *\n",
    "from qiskit_rigetti import RigettiQCSProvider, QuilCircuit\n",
    "from qiskit_rigetti.hooks.pre_compilation import set_rewiring"
   ]
  },
  {
   "cell_type": "code",
   "execution_count": 3,
   "metadata": {
    "tags": []
   },
   "outputs": [
    {
     "name": "stdout",
     "output_type": "stream",
     "text": [
      "Gate set supported by the Rigetti device:\n",
      " ['cz', 'xy', 'ccnot', 'cnot', 'cphaseshift', 'cphaseshift00', 'cphaseshift01', 'cphaseshift10', 'cswap', 'h', 'i', 'iswap', 'phaseshift', 'pswap', 'rx', 'ry', 'rz', 's', 'si', 'swap', 't', 'ti', 'x', 'y', 'z', 'start_verbatim_box', 'end_verbatim_box']\n",
      "\n",
      "\n"
     ]
    }
   ],
   "source": [
    "# the Rigetti device\n",
    "device = AwsDevice(\"arn:aws:braket:us-west-1::device/qpu/rigetti/Aspen-M-3\")\n",
    "supported_gates = device.properties.action['braket.ir.jaqcd.program'].supportedOperations\n",
    "# print the supported gate set\n",
    "print('Gate set supported by the Rigetti device:\\n', supported_gates)\n",
    "print('\\n') "
   ]
  },
  {
   "cell_type": "code",
   "execution_count": 5,
   "metadata": {
    "tags": []
   },
   "outputs": [
    {
     "name": "stdout",
     "output_type": "stream",
     "text": [
      "T  : |0|1|\n",
      "          \n",
      "q0 : -H-C-\n",
      "        | \n",
      "q1 : ---X-\n",
      "\n",
      "T  : |0|1|\n"
     ]
    }
   ],
   "source": [
    "# define circuit\n",
    "bell = Circuit().h(0).cnot(0, 1)\n",
    "# bell = Circuit().from_pyquil(p)\n",
    "\n",
    "# print circuit\n",
    "print(bell)"
   ]
  },
  {
   "cell_type": "code",
   "execution_count": 7,
   "metadata": {
    "tags": []
   },
   "outputs": [
    {
     "name": "stdout",
     "output_type": "stream",
     "text": [
      "Status of task: CREATED\n"
     ]
    }
   ],
   "source": [
    "# set up device\n",
    "rigetti = AwsDevice(\"arn:aws:braket:us-west-1::device/qpu/rigetti/Aspen-M-3\")\n",
    "\n",
    "# create a clean circuit with no result type attached.(This is because some result types are only supported when shots=0)\n",
    "bell = Circuit().h(0).cnot(0, 1)  \n",
    "\n",
    "# add the Z \\otimes Z expectation value\n",
    "bell.expectation(Observable.Z() @ Observable.Z(), target=[0,1])\n",
    "\n",
    "# run circuit \n",
    "rigetti_task = rigetti.run(bell, shots=1000, disable_qubit_rewiring=True)\n",
    "\n",
    "# get id and status of submitted task\n",
    "rigetti_task_id = rigetti_task.id\n",
    "rigetti_status = rigetti_task.state()\n",
    "# print('ID of task:', rigetti_task_id)\n",
    "print('Status of task:', rigetti_status)"
   ]
  },
  {
   "cell_type": "code",
   "execution_count": 19,
   "metadata": {
    "tags": []
   },
   "outputs": [
    {
     "name": "stdout",
     "output_type": "stream",
     "text": [
      "Status of (reconstructed) task: QUEUED\n"
     ]
    }
   ],
   "source": [
    "# print status\n",
    "status = rigetti_task.state()\n",
    "print('Status of (reconstructed) task:', status)"
   ]
  },
  {
   "cell_type": "code",
   "execution_count": 11,
   "metadata": {
    "tags": []
   },
   "outputs": [
    {
     "name": "stdout",
     "output_type": "stream",
     "text": [
      "Status of (reconstructed) task: QUEUED\n",
      "\n",
      "\n",
      "Sorry, your task is still being processed and has not been finalized yet.\n"
     ]
    }
   ],
   "source": [
    "# recover task\n",
    "task_load = AwsQuantumTask(arn=rigetti_task_id)\n",
    "\n",
    "# print status\n",
    "status = task_load.state()\n",
    "print('Status of (reconstructed) task:', status)\n",
    "print('\\n')\n",
    "# wait for job to complete\n",
    "# terminal_states = ['COMPLETED', 'FAILED', 'CANCELLED']\n",
    "if status == 'COMPLETED':\n",
    "    # get results\n",
    "    rigetti_results = task_load.result()\n",
    "    # print(rigetti_results)\n",
    "    \n",
    "    # get all metadata of submitted task\n",
    "    metadata = task_load.metadata()\n",
    "    # example for metadata\n",
    "    shots = metadata['shots']\n",
    "    machine = metadata['deviceArn']\n",
    "    # print example metadata\n",
    "    print(\"{} shots taken on machine {}.\\n\".format(shots, machine))\n",
    "    \n",
    "    # get the compiled circuit\n",
    "    print(\"The compiled circuit is:\\n\", rigetti_results.additional_metadata.rigettiMetadata.compiledProgram)\n",
    "    \n",
    "    # get measurement counts\n",
    "    rigetti_counts = rigetti_results.measurement_counts\n",
    "    print('Measurement counts:', rigetti_counts)\n",
    "\n",
    "    # plot results: see effects of noise\n",
    "    plt.bar(rigetti_counts.keys(), rigetti_counts.values())\n",
    "    plt.xlabel('bitstrings')\n",
    "    plt.ylabel('counts')\n",
    "    plt.tight_layout()\n",
    "    plt.savefig('rigetti.png', dpi=700)\n",
    "    \n",
    "elif status in ['FAILED', 'CANCELLED']:\n",
    "    # print terminal message \n",
    "    print('Your task is in terminal status, but has not completed.')\n",
    "\n",
    "else:\n",
    "    # print current status\n",
    "    print('Sorry, your task is still being processed and has not been finalized yet.')"
   ]
  },
  {
   "cell_type": "code",
   "execution_count": 8,
   "metadata": {
    "tags": []
   },
   "outputs": [
    {
     "name": "stdout",
     "output_type": "stream",
     "text": [
      "Task Summary\n",
      "{'arn:aws:braket:us-west-1::device/qpu/rigetti/Aspen-M-3': {'shots': 1000, 'tasks': {'COMPLETED': 1}}}\n",
      "Note: Charges shown are estimates based on your Amazon Braket simulator and quantum processing unit (QPU) task usage. Estimated charges shown may differ from your actual charges. Estimated charges do not factor in any discounts or credits, and you may experience additional charges based on your use of other services such as Amazon Elastic Compute Cloud (Amazon EC2).\n",
      "Estimated cost to run this example: 0.65 USD\n"
     ]
    }
   ],
   "source": [
    "print(\"Task Summary\")\n",
    "print(t.quantum_tasks_statistics())\n",
    "print('Note: Charges shown are estimates based on your Amazon Braket simulator and quantum processing unit (QPU) task usage. Estimated charges shown may differ from your actual charges. Estimated charges do not factor in any discounts or credits, and you may experience additional charges based on your use of other services such as Amazon Elastic Compute Cloud (Amazon EC2).')\n",
    "print(f\"Estimated cost to run this example: {t.qpu_tasks_cost() + t.simulator_tasks_cost():.2f} USD\")"
   ]
  },
  {
   "cell_type": "code",
   "execution_count": null,
   "metadata": {},
   "outputs": [],
   "source": []
  }
 ],
 "metadata": {
  "kernelspec": {
   "display_name": "conda_braket",
   "language": "python",
   "name": "conda_braket"
  },
  "language_info": {
   "codemirror_mode": {
    "name": "ipython",
    "version": 3
   },
   "file_extension": ".py",
   "mimetype": "text/x-python",
   "name": "python",
   "nbconvert_exporter": "python",
   "pygments_lexer": "ipython3",
   "version": "3.10.11"
  }
 },
 "nbformat": 4,
 "nbformat_minor": 4
}
